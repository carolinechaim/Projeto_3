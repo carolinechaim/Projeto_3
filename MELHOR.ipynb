{
 "cells": [
  {
   "cell_type": "code",
   "execution_count": 1,
   "metadata": {},
   "outputs": [],
   "source": [
    "%matplotlib inline\n",
    "import pandas as pd\n",
    "import numpy as np\n",
    "from scipy import stats\n",
    "import matplotlib.pyplot as plt"
   ]
  },
  {
   "cell_type": "code",
   "execution_count": 10,
   "metadata": {},
   "outputs": [],
   "source": [
    "movies_meta = pd.read_csv('movies_metadata.csv')"
   ]
  },
  {
   "cell_type": "code",
   "execution_count": 8,
   "metadata": {},
   "outputs": [],
   "source": [
    "credits = pd.read_csv(\"credits.csv\")"
   ]
  },
  {
   "cell_type": "code",
   "execution_count": 11,
   "metadata": {},
   "outputs": [],
   "source": [
    "movies_meta.head();"
   ]
  },
  {
   "cell_type": "code",
   "execution_count": 13,
   "metadata": {},
   "outputs": [
    {
     "data": {
      "text/plain": [
       "0        [{'cast_id': 14, 'character': 'Woody (voice)',...\n",
       "1        [{'cast_id': 1, 'character': 'Alan Parrish', '...\n",
       "2        [{'cast_id': 2, 'character': 'Max Goldman', 'c...\n",
       "3        [{'cast_id': 1, 'character': \"Savannah 'Vannah...\n",
       "4        [{'cast_id': 1, 'character': 'George Banks', '...\n",
       "5        [{'cast_id': 25, 'character': 'Lt. Vincent Han...\n",
       "6        [{'cast_id': 1, 'character': 'Linus Larrabee',...\n",
       "7        [{'cast_id': 2, 'character': 'Tom Sawyer', 'cr...\n",
       "8        [{'cast_id': 1, 'character': 'Darren Francis T...\n",
       "9        [{'cast_id': 1, 'character': 'James Bond', 'cr...\n",
       "10       [{'cast_id': 1, 'character': 'Andrew Shepherd'...\n",
       "11       [{'cast_id': 9, 'character': 'Count Dracula', ...\n",
       "12       [{'cast_id': 1, 'character': 'Balto (voice)', ...\n",
       "13       [{'cast_id': 1, 'character': 'Richard Nixon', ...\n",
       "14       [{'cast_id': 1, 'character': 'Morgan Adams', '...\n",
       "15       [{'cast_id': 4, 'character': \"Sam 'Ace' Rothst...\n",
       "16       [{'cast_id': 6, 'character': 'Marianne Dashwoo...\n",
       "17       [{'cast_id': 42, 'character': 'Ted the Bellhop...\n",
       "18       [{'cast_id': 1, 'character': 'Ace Ventura', 'c...\n",
       "19       [{'cast_id': 1, 'character': 'John', 'credit_i...\n",
       "20       [{'cast_id': 1, 'character': 'Chili Palmer', '...\n",
       "21       [{'cast_id': 8, 'character': 'Helen Hudson', '...\n",
       "22       [{'cast_id': 1, 'character': 'Robert Rath', 'c...\n",
       "23       [{'cast_id': 1, 'character': 'Jessie Caldwell'...\n",
       "24       [{'cast_id': 1, 'character': 'Ben Sanderson', ...\n",
       "25       [{'cast_id': 2, 'character': 'Othello', 'credi...\n",
       "26       [{'cast_id': 9, 'character': 'Young Roberta Ma...\n",
       "27       [{'cast_id': 1, 'character': 'Anne Elliott', '...\n",
       "28       [{'cast_id': 24, 'character': 'One', 'credit_i...\n",
       "29       [{'cast_id': 2, 'character': 'Xiao Jingbao', '...\n",
       "                               ...                        \n",
       "45446    [{'cast_id': 1, 'character': 'Gillian Grady', ...\n",
       "45447                                                   []\n",
       "45448    [{'cast_id': 2, 'character': 'André Hazes', 'c...\n",
       "45449    [{'cast_id': 2, 'character': 'Paula Dupree - t...\n",
       "45450    [{'cast_id': 1, 'character': 'Alyson', 'credit...\n",
       "45451    [{'cast_id': 1, 'character': 'Kelly Collins', ...\n",
       "45452                                                   []\n",
       "45453    [{'cast_id': 2, 'character': '', 'credit_id': ...\n",
       "45454    [{'cast_id': 2, 'character': 'The Magician', '...\n",
       "45455    [{'cast_id': 2, 'character': '', 'credit_id': ...\n",
       "45456    [{'cast_id': 2, 'character': 'Le Concierge', '...\n",
       "45457    [{'cast_id': 2, 'character': 'Man with whisker...\n",
       "45458                                                   []\n",
       "45459    [{'cast_id': 1, 'character': 'Roo (voice)', 'c...\n",
       "45460    [{'cast_id': 3, 'character': 'All the members ...\n",
       "45461    [{'cast_id': 2, 'character': '', 'credit_id': ...\n",
       "45462                                                   []\n",
       "45463    [{'cast_id': 1, 'character': 'Devki Sabarwal',...\n",
       "45464    [{'cast_id': 0, 'character': 'Lauren', 'credit...\n",
       "45465    [{'cast_id': 5, 'character': '', 'credit_id': ...\n",
       "45466    [{'cast_id': 5, 'character': 'The Creeper', 'c...\n",
       "45467    [{'cast_id': 30, 'character': 'Debuty Hank Har...\n",
       "45468    [{'cast_id': 2, 'character': 'Branwall', 'cred...\n",
       "45469    [{'cast_id': 1, 'character': 'Kira (as Cassand...\n",
       "45470    [{'cast_id': 1, 'character': 'Sir Robert Hode'...\n",
       "45471    [{'cast_id': 0, 'character': '', 'credit_id': ...\n",
       "45472    [{'cast_id': 1002, 'character': 'Sister Angela...\n",
       "45473    [{'cast_id': 6, 'character': 'Emily Shaw', 'cr...\n",
       "45474    [{'cast_id': 2, 'character': '', 'credit_id': ...\n",
       "45475                                                   []\n",
       "Name: cast, Length: 45476, dtype: object"
      ]
     },
     "execution_count": 13,
     "metadata": {},
     "output_type": "execute_result"
    }
   ],
   "source": [
    "credits.cast"
   ]
  },
  {
   "cell_type": "code",
   "execution_count": null,
   "metadata": {},
   "outputs": [],
   "source": []
  }
 ],
 "metadata": {
  "kernelspec": {
   "display_name": "Python 3",
   "language": "python",
   "name": "python3"
  },
  "language_info": {
   "codemirror_mode": {
    "name": "ipython",
    "version": 3
   },
   "file_extension": ".py",
   "mimetype": "text/x-python",
   "name": "python",
   "nbconvert_exporter": "python",
   "pygments_lexer": "ipython3",
   "version": "3.7.1"
  }
 },
 "nbformat": 4,
 "nbformat_minor": 2
}
