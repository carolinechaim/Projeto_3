{
 "cells": [
  {
   "cell_type": "code",
   "execution_count": 1,
   "metadata": {},
   "outputs": [],
   "source": [
    "%matplotlib notebook\n",
    "%reset -f\n",
    "\n",
    "\n",
    "import pandas as pd\n",
    "import numpy as np\n",
    "from scipy.stats import norm, probplot\n",
    "import statsmodels.api as sm\n",
    "import matplotlib.pyplot as plt\n",
    "from mpl_toolkits.mplot3d import Axes3D"
   ]
  },
  {
   "cell_type": "code",
   "execution_count": 2,
   "metadata": {},
   "outputs": [],
   "source": [
    "data = pd.read_csv('Movie_Data_Atualizado.csv')"
   ]
  },
  {
   "cell_type": "code",
   "execution_count": 3,
   "metadata": {},
   "outputs": [],
   "source": [
    "data.head();"
   ]
  },
  {
   "cell_type": "markdown",
   "metadata": {},
   "source": [
    "**Para rodar o lista_filmes e lista_atores tem que rodar o \"codigo_nova_tabela\"**"
   ]
  },
  {
   "cell_type": "code",
   "execution_count": 4,
   "metadata": {},
   "outputs": [],
   "source": [
    "%store -r lista_atores\n",
    "%store -r lista_filmes"
   ]
  },
  {
   "cell_type": "code",
   "execution_count": 5,
   "metadata": {},
   "outputs": [],
   "source": [
    "lista_atores;\n",
    "lista_filmes;"
   ]
  },
  {
   "cell_type": "code",
   "execution_count": 6,
   "metadata": {},
   "outputs": [],
   "source": [
    "df = data[lista_atores]"
   ]
  },
  {
   "cell_type": "code",
   "execution_count": 7,
   "metadata": {},
   "outputs": [],
   "source": [
    "df;"
   ]
  },
  {
   "cell_type": "code",
   "execution_count": 8,
   "metadata": {},
   "outputs": [],
   "source": [
    "def regress(X,Y):\n",
    "    X_cp = sm.add_constant(X)\n",
    "    model = sm.OLS(Y,X_cp)\n",
    "    results = model.fit()\n",
    "    return results"
   ]
  },
  {
   "cell_type": "code",
   "execution_count": 9,
   "metadata": {},
   "outputs": [],
   "source": [
    "df.describe;"
   ]
  },
  {
   "cell_type": "code",
   "execution_count": 10,
   "metadata": {},
   "outputs": [],
   "source": [
    "df2 = data.dropna();"
   ]
  },
  {
   "cell_type": "code",
   "execution_count": 11,
   "metadata": {},
   "outputs": [],
   "source": [
    "Y = df2[\"Revenue (Millions)\"]"
   ]
  },
  {
   "cell_type": "code",
   "execution_count": 12,
   "metadata": {},
   "outputs": [
    {
     "data": {
      "text/plain": [
       "1985"
      ]
     },
     "execution_count": 12,
     "metadata": {},
     "output_type": "execute_result"
    }
   ],
   "source": [
    "len(sorted(df2.loc[:,lista_atores].sum(), reverse=True))"
   ]
  },
  {
   "cell_type": "code",
   "execution_count": 13,
   "metadata": {},
   "outputs": [
    {
     "data": {
      "text/html": [
       "<div>\n",
       "<style scoped>\n",
       "    .dataframe tbody tr th:only-of-type {\n",
       "        vertical-align: middle;\n",
       "    }\n",
       "\n",
       "    .dataframe tbody tr th {\n",
       "        vertical-align: top;\n",
       "    }\n",
       "\n",
       "    .dataframe thead th {\n",
       "        text-align: right;\n",
       "    }\n",
       "</style>\n",
       "<table border=\"1\" class=\"dataframe\">\n",
       "  <thead>\n",
       "    <tr style=\"text-align: right;\">\n",
       "      <th></th>\n",
       "      <th>Rank</th>\n",
       "      <th>Title</th>\n",
       "      <th>Genre</th>\n",
       "      <th>Description</th>\n",
       "      <th>Director</th>\n",
       "      <th>Actors</th>\n",
       "      <th>Year</th>\n",
       "      <th>Runtime (Minutes)</th>\n",
       "      <th>Rating</th>\n",
       "      <th>Votes</th>\n",
       "      <th>...</th>\n",
       "      <th>Bijou Phillips</th>\n",
       "      <th>Roger Bart</th>\n",
       "      <th>Robert Hoffman</th>\n",
       "      <th>Briana Evigan</th>\n",
       "      <th>Cassie Ventura</th>\n",
       "      <th>Adam G. Sevani</th>\n",
       "      <th>Adam Pally</th>\n",
       "      <th>Thomas Middleditch</th>\n",
       "      <th>Shannon Woodward</th>\n",
       "      <th>Cheryl Hines</th>\n",
       "    </tr>\n",
       "  </thead>\n",
       "  <tbody>\n",
       "    <tr>\n",
       "      <th>0</th>\n",
       "      <td>1</td>\n",
       "      <td>Guardians of the Galaxy</td>\n",
       "      <td>Action,Adventure,Sci-Fi</td>\n",
       "      <td>A group of intergalactic criminals are forced ...</td>\n",
       "      <td>James Gunn</td>\n",
       "      <td>Chris Pratt, Vin Diesel, Bradley Cooper, Zoe S...</td>\n",
       "      <td>2014</td>\n",
       "      <td>121</td>\n",
       "      <td>8.1</td>\n",
       "      <td>757074</td>\n",
       "      <td>...</td>\n",
       "      <td>0</td>\n",
       "      <td>0</td>\n",
       "      <td>0</td>\n",
       "      <td>0</td>\n",
       "      <td>0</td>\n",
       "      <td>0</td>\n",
       "      <td>0</td>\n",
       "      <td>0</td>\n",
       "      <td>0</td>\n",
       "      <td>0</td>\n",
       "    </tr>\n",
       "    <tr>\n",
       "      <th>1</th>\n",
       "      <td>2</td>\n",
       "      <td>Prometheus</td>\n",
       "      <td>Adventure,Mystery,Sci-Fi</td>\n",
       "      <td>Following clues to the origin of mankind, a te...</td>\n",
       "      <td>Ridley Scott</td>\n",
       "      <td>Noomi Rapace, Logan Marshall-Green, Michael Fa...</td>\n",
       "      <td>2012</td>\n",
       "      <td>124</td>\n",
       "      <td>7.0</td>\n",
       "      <td>485820</td>\n",
       "      <td>...</td>\n",
       "      <td>0</td>\n",
       "      <td>0</td>\n",
       "      <td>0</td>\n",
       "      <td>0</td>\n",
       "      <td>0</td>\n",
       "      <td>0</td>\n",
       "      <td>0</td>\n",
       "      <td>0</td>\n",
       "      <td>0</td>\n",
       "      <td>0</td>\n",
       "    </tr>\n",
       "    <tr>\n",
       "      <th>2</th>\n",
       "      <td>3</td>\n",
       "      <td>Split</td>\n",
       "      <td>Horror,Thriller</td>\n",
       "      <td>Three girls are kidnapped by a man with a diag...</td>\n",
       "      <td>M. Night Shyamalan</td>\n",
       "      <td>James McAvoy, Anya Taylor-Joy, Haley Lu Richar...</td>\n",
       "      <td>2016</td>\n",
       "      <td>117</td>\n",
       "      <td>7.3</td>\n",
       "      <td>157606</td>\n",
       "      <td>...</td>\n",
       "      <td>0</td>\n",
       "      <td>0</td>\n",
       "      <td>0</td>\n",
       "      <td>0</td>\n",
       "      <td>0</td>\n",
       "      <td>0</td>\n",
       "      <td>0</td>\n",
       "      <td>0</td>\n",
       "      <td>0</td>\n",
       "      <td>0</td>\n",
       "    </tr>\n",
       "    <tr>\n",
       "      <th>3</th>\n",
       "      <td>4</td>\n",
       "      <td>Sing</td>\n",
       "      <td>Animation,Comedy,Family</td>\n",
       "      <td>In a city of humanoid animals, a hustling thea...</td>\n",
       "      <td>Christophe Lourdelet</td>\n",
       "      <td>Matthew McConaughey,Reese Witherspoon, Seth Ma...</td>\n",
       "      <td>2016</td>\n",
       "      <td>108</td>\n",
       "      <td>7.2</td>\n",
       "      <td>60545</td>\n",
       "      <td>...</td>\n",
       "      <td>0</td>\n",
       "      <td>0</td>\n",
       "      <td>0</td>\n",
       "      <td>0</td>\n",
       "      <td>0</td>\n",
       "      <td>0</td>\n",
       "      <td>0</td>\n",
       "      <td>0</td>\n",
       "      <td>0</td>\n",
       "      <td>0</td>\n",
       "    </tr>\n",
       "    <tr>\n",
       "      <th>4</th>\n",
       "      <td>5</td>\n",
       "      <td>Suicide Squad</td>\n",
       "      <td>Action,Adventure,Fantasy</td>\n",
       "      <td>A secret government agency recruits some of th...</td>\n",
       "      <td>David Ayer</td>\n",
       "      <td>Will Smith, Jared Leto, Margot Robbie, Viola D...</td>\n",
       "      <td>2016</td>\n",
       "      <td>123</td>\n",
       "      <td>6.2</td>\n",
       "      <td>393727</td>\n",
       "      <td>...</td>\n",
       "      <td>0</td>\n",
       "      <td>0</td>\n",
       "      <td>0</td>\n",
       "      <td>0</td>\n",
       "      <td>0</td>\n",
       "      <td>0</td>\n",
       "      <td>0</td>\n",
       "      <td>0</td>\n",
       "      <td>0</td>\n",
       "      <td>0</td>\n",
       "    </tr>\n",
       "  </tbody>\n",
       "</table>\n",
       "<p>5 rows × 1997 columns</p>\n",
       "</div>"
      ],
      "text/plain": [
       "   Rank                    Title                     Genre  \\\n",
       "0     1  Guardians of the Galaxy   Action,Adventure,Sci-Fi   \n",
       "1     2               Prometheus  Adventure,Mystery,Sci-Fi   \n",
       "2     3                    Split           Horror,Thriller   \n",
       "3     4                     Sing   Animation,Comedy,Family   \n",
       "4     5            Suicide Squad  Action,Adventure,Fantasy   \n",
       "\n",
       "                                         Description              Director  \\\n",
       "0  A group of intergalactic criminals are forced ...            James Gunn   \n",
       "1  Following clues to the origin of mankind, a te...          Ridley Scott   \n",
       "2  Three girls are kidnapped by a man with a diag...    M. Night Shyamalan   \n",
       "3  In a city of humanoid animals, a hustling thea...  Christophe Lourdelet   \n",
       "4  A secret government agency recruits some of th...            David Ayer   \n",
       "\n",
       "                                              Actors  Year  Runtime (Minutes)  \\\n",
       "0  Chris Pratt, Vin Diesel, Bradley Cooper, Zoe S...  2014                121   \n",
       "1  Noomi Rapace, Logan Marshall-Green, Michael Fa...  2012                124   \n",
       "2  James McAvoy, Anya Taylor-Joy, Haley Lu Richar...  2016                117   \n",
       "3  Matthew McConaughey,Reese Witherspoon, Seth Ma...  2016                108   \n",
       "4  Will Smith, Jared Leto, Margot Robbie, Viola D...  2016                123   \n",
       "\n",
       "   Rating   Votes      ...       Bijou Phillips  Roger Bart  Robert Hoffman  \\\n",
       "0     8.1  757074      ...                    0           0               0   \n",
       "1     7.0  485820      ...                    0           0               0   \n",
       "2     7.3  157606      ...                    0           0               0   \n",
       "3     7.2   60545      ...                    0           0               0   \n",
       "4     6.2  393727      ...                    0           0               0   \n",
       "\n",
       "   Briana Evigan  Cassie Ventura  Adam G. Sevani  Adam Pally  \\\n",
       "0              0               0               0           0   \n",
       "1              0               0               0           0   \n",
       "2              0               0               0           0   \n",
       "3              0               0               0           0   \n",
       "4              0               0               0           0   \n",
       "\n",
       "   Thomas Middleditch  Shannon Woodward  Cheryl Hines  \n",
       "0                   0                 0             0  \n",
       "1                   0                 0             0  \n",
       "2                   0                 0             0  \n",
       "3                   0                 0             0  \n",
       "4                   0                 0             0  \n",
       "\n",
       "[5 rows x 1997 columns]"
      ]
     },
     "execution_count": 13,
     "metadata": {},
     "output_type": "execute_result"
    }
   ],
   "source": [
    "df2.head()"
   ]
  },
  {
   "cell_type": "code",
   "execution_count": 14,
   "metadata": {},
   "outputs": [
    {
     "data": {
      "text/plain": [
       "Chris Pratt               6\n",
       "Vin Diesel                7\n",
       "Bradley Cooper           11\n",
       "Zoe Saldana               6\n",
       "Noomi Rapace              4\n",
       "Logan Marshall-Green      2\n",
       "Michael Fassbender       11\n",
       "Charlize Theron           7\n",
       "James McAvoy              7\n",
       "Anya Taylor-Joy           3\n",
       "Haley Lu Richardson       2\n",
       "Jessica Sula              1\n",
       "Matthew McConaughey       9\n",
       "Reese Witherspoon         3\n",
       "Seth MacFarlane           4\n",
       "Scarlett Johansson       12\n",
       "Will Smith                9\n",
       "Jared Leto                2\n",
       "Margot Robbie             3\n",
       "Viola Davis               6\n",
       "Matt Damon                8\n",
       "Tian Jing                 1\n",
       "Willem Dafoe              5\n",
       "Andy Lau                  1\n",
       "Ryan Gosling             10\n",
       "Emma Stone               10\n",
       "Rosemarie DeWitt          1\n",
       "J.K. Simmons              5\n",
       "Essie Davis               1\n",
       "Andrea Riseborough        2\n",
       "                         ..\n",
       "Nicholas D'Agosto         1\n",
       "Emma Bell                 1\n",
       "Arlen Escarpeta           1\n",
       "Morjana Alaoui            0\n",
       "Mylène Jampanoï           0\n",
       "Catherine Bégin           0\n",
       "Robert Toupin             0\n",
       "Carmen Ejogo              0\n",
       "Lorraine Toussaint        0\n",
       "Steven Mackintosh         1\n",
       "Darsheel Safary           1\n",
       "Tanay Chheda              1\n",
       "Sachet Engineer           1\n",
       "Kim Coates                1\n",
       "Oliver Cooper             1\n",
       "Jonathan Daniel Brown     1\n",
       "Dax Flame                 1\n",
       "Dean Norris               0\n",
       "Lauren German             1\n",
       "Heather Matarazzo         1\n",
       "Bijou Phillips            1\n",
       "Roger Bart                1\n",
       "Robert Hoffman            1\n",
       "Briana Evigan             1\n",
       "Cassie Ventura            1\n",
       "Adam G. Sevani            1\n",
       "Adam Pally                0\n",
       "Thomas Middleditch        0\n",
       "Shannon Woodward          0\n",
       "Cheryl Hines              1\n",
       "Length: 1985, dtype: int64"
      ]
     },
     "execution_count": 14,
     "metadata": {},
     "output_type": "execute_result"
    }
   ],
   "source": [
    "df2.loc[:,lista_atores].sum()"
   ]
  },
  {
   "cell_type": "code",
   "execution_count": 15,
   "metadata": {},
   "outputs": [],
   "source": [
    "Y = df2[\"Revenue (Millions)\"]"
   ]
  },
  {
   "cell_type": "code",
   "execution_count": 16,
   "metadata": {},
   "outputs": [
    {
     "data": {
      "text/plain": [
       "0      333.13\n",
       "1      126.46\n",
       "2      138.12\n",
       "3      270.32\n",
       "4      325.02\n",
       "5       45.13\n",
       "6      151.06\n",
       "8        8.01\n",
       "9      100.01\n",
       "10     234.02\n",
       "11     169.27\n",
       "12     532.17\n",
       "13     248.75\n",
       "14       2.87\n",
       "15     368.31\n",
       "16      67.12\n",
       "17     162.16\n",
       "18      51.69\n",
       "19     100.50\n",
       "20       7.22\n",
       "21      47.70\n",
       "23     153.69\n",
       "24     103.14\n",
       "28     113.08\n",
       "29      54.65\n",
       "30      60.31\n",
       "31      10.64\n",
       "32     155.33\n",
       "33     363.02\n",
       "34      26.84\n",
       "        ...  \n",
       "955     26.05\n",
       "956     40.17\n",
       "957     40.98\n",
       "958     30.69\n",
       "959     22.49\n",
       "960      2.32\n",
       "961      0.01\n",
       "962     26.81\n",
       "963      0.09\n",
       "970     34.33\n",
       "972     38.51\n",
       "973     38.18\n",
       "974      8.81\n",
       "975     59.57\n",
       "979      3.19\n",
       "980     61.69\n",
       "981     85.91\n",
       "982     24.34\n",
       "983     82.39\n",
       "984     42.65\n",
       "985     21.56\n",
       "986     42.58\n",
       "987     23.39\n",
       "990     45.80\n",
       "991      1.20\n",
       "993     60.13\n",
       "994     54.72\n",
       "996     17.54\n",
       "997     58.01\n",
       "999     19.64\n",
       "Name: Revenue (Millions), Length: 838, dtype: float64"
      ]
     },
     "execution_count": 16,
     "metadata": {},
     "output_type": "execute_result"
    }
   ],
   "source": [
    "Y"
   ]
  },
  {
   "cell_type": "code",
   "execution_count": 17,
   "metadata": {},
   "outputs": [],
   "source": [
    "X = df2[lista_atores]"
   ]
  },
  {
   "cell_type": "code",
   "execution_count": null,
   "metadata": {},
   "outputs": [
    {
     "name": "stdout",
     "output_type": "stream",
     "text": [
      "Chris Pratt : 6\n",
      "Vin Diesel : 7\n",
      "Bradley Cooper : 11\n",
      "Zoe Saldana : 6\n",
      "Noomi Rapace : 4\n",
      "Logan Marshall-Green : 2\n"
     ]
    }
   ],
   "source": [
    "nova_lista_atores = []\n",
    "for ator in X.sum().index:\n",
    "    print(ator, \":\", X.sum()[ator])\n",
    "    if X.sum()[ator] != 0:\n",
    "        nova_lista_atores.append(ator)\n",
    "X_limpo = df2[nova_lista_atores]"
   ]
  },
  {
   "cell_type": "code",
   "execution_count": null,
   "metadata": {},
   "outputs": [],
   "source": [
    "regressao = regress(X_limpo, Y)"
   ]
  },
  {
   "cell_type": "code",
   "execution_count": null,
   "metadata": {},
   "outputs": [],
   "source": [
    "regressao.summary()"
   ]
  },
  {
   "cell_type": "code",
   "execution_count": null,
   "metadata": {},
   "outputs": [],
   "source": [
    "dir(regressao);"
   ]
  },
  {
   "cell_type": "markdown",
   "metadata": {},
   "source": [
    " "
   ]
  },
  {
   "cell_type": "code",
   "execution_count": null,
   "metadata": {},
   "outputs": [],
   "source": [
    "sorted_params = sorted(regressao.params, reverse=True)\n",
    "sorted_params[0]"
   ]
  },
  {
   "cell_type": "code",
   "execution_count": null,
   "metadata": {},
   "outputs": [],
   "source": [
    "top_5 = []\n",
    "i = 0\n",
    "while i < 5:\n",
    "    top_5.append(sorted_params[i])\n",
    "    i+=1\n",
    "print(top_5)\n",
    "\n",
    "\n",
    "bottom_5 = []\n",
    "i = 1\n",
    "while i < 6:\n",
    "    bottom_5.append(sorted_params[-i])\n",
    "    i+=1\n",
    "print(bottom_5)"
   ]
  },
  {
   "cell_type": "code",
   "execution_count": null,
   "metadata": {},
   "outputs": [],
   "source": [
    "name_top_5 = []\n",
    "\n",
    "for i in regressao.params.index:\n",
    "    if regressao.params[i] in top_5:\n",
    "        name_top_5.append(i)\n",
    "        \n",
    "name_bottom_5 = []\n",
    "\n",
    "for i in regressao.params.index:\n",
    "    if regressao.params[i] in bottom_5:\n",
    "        name_bottom_5.append(i)"
   ]
  },
  {
   "cell_type": "code",
   "execution_count": null,
   "metadata": {},
   "outputs": [],
   "source": [
    "for i in name_top_5:\n",
    "    print(i, \":\", regressao.params[i])\n",
    "    \n",
    "print(\"-----\")\n",
    "    \n",
    "for i in name_bottom_5:\n",
    "    print(i, \":\", regressao.params[i])"
   ]
  },
  {
   "cell_type": "code",
   "execution_count": null,
   "metadata": {},
   "outputs": [],
   "source": [
    "%matplotlib inline\n",
    "plt.hist(Y, density=True);"
   ]
  },
  {
   "cell_type": "code",
   "execution_count": null,
   "metadata": {},
   "outputs": [],
   "source": [
    "Y.plot.box();"
   ]
  },
  {
   "cell_type": "code",
   "execution_count": null,
   "metadata": {},
   "outputs": [],
   "source": [
    "for i in name_top_5:\n",
    "    print(i, \":\", df2[i].sum())"
   ]
  },
  {
   "cell_type": "code",
   "execution_count": null,
   "metadata": {},
   "outputs": [],
   "source": [
    "for i in name_bottom_5:\n",
    "    print(i, \":\", df2[i].sum())"
   ]
  },
  {
   "cell_type": "code",
   "execution_count": null,
   "metadata": {},
   "outputs": [],
   "source": [
    "revenue_top_5 = {}\n",
    "\n",
    "for name in name_top_5:\n",
    "    revenue_top_5[name] = 0\n",
    "\n",
    "print(revenue_top_5)\n",
    "\n",
    "for i in df2.index:\n",
    "    for ator1 in name_top_5:\n",
    "        if df2[ator1][i] == 1:\n",
    "            revenue_top_5[ator1] += float(df2[\"Revenue (Millions)\"][i])\n",
    "            \n",
    "print(revenue_top_5)"
   ]
  },
  {
   "cell_type": "code",
   "execution_count": null,
   "metadata": {},
   "outputs": [],
   "source": [
    "revenue_bottom_5 = {}\n",
    "\n",
    "for name in name_bottom_5:\n",
    "    revenue_bottom_5[name] = 0\n",
    "\n",
    "print(revenue_bottom_5)\n",
    "\n",
    "for i in df2.index:\n",
    "    for ator1 in name_bottom_5:\n",
    "        if df2[ator1][i] == 1:\n",
    "            revenue_bottom_5[ator1] += float(df2[\"Revenue (Millions)\"][i])\n",
    "            \n",
    "print(revenue_bottom_5)"
   ]
  },
  {
   "cell_type": "code",
   "execution_count": null,
   "metadata": {},
   "outputs": [],
   "source": [
    "adjusted_revenue_top_5 = {}\n",
    "\n",
    "for key in revenue_top_5:\n",
    "    adjusted_revenue_top_5[key] = revenue_top_5[key]/df2[key].sum()\n",
    "\n",
    "print(adjusted_revenue_top_5)"
   ]
  },
  {
   "cell_type": "code",
   "execution_count": null,
   "metadata": {},
   "outputs": [],
   "source": [
    "adjusted_revenue_bottom_5 = {}\n",
    "\n",
    "for key in revenue_bottom_5:\n",
    "    adjusted_revenue_bottom_5[key] = revenue_bottom_5[key]/df2[key].sum()\n",
    "\n",
    "print(adjusted_revenue_bottom_5)"
   ]
  },
  {
   "cell_type": "code",
   "execution_count": null,
   "metadata": {},
   "outputs": [],
   "source": [
    "plt.hist(adjusted_revenue_top_5.values());"
   ]
  },
  {
   "cell_type": "code",
   "execution_count": null,
   "metadata": {},
   "outputs": [],
   "source": [
    "plt.hist(adjusted_revenue_bottom_5.values());"
   ]
  },
  {
   "cell_type": "code",
   "execution_count": null,
   "metadata": {},
   "outputs": [],
   "source": [
    "for ator,renda in adjusted_revenue_top_5.items():\n",
    "    plt.bar(ator,renda)\n",
    "plt.show()"
   ]
  },
  {
   "cell_type": "code",
   "execution_count": null,
   "metadata": {},
   "outputs": [],
   "source": [
    "for ator,renda in adjusted_revenue_bottom_5.items():\n",
    "    plt.bar(ator,renda)\n",
    "plt.show()"
   ]
  },
  {
   "cell_type": "code",
   "execution_count": null,
   "metadata": {},
   "outputs": [],
   "source": [
    "for ator,renda in adjusted_revenue_top_5.items():\n",
    "    plt.bar(ator,renda, color=\"blue\")\n",
    "for ator,renda in adjusted_revenue_bottom_5.items():\n",
    "    plt.bar(ator,renda, color=\"red\")\n",
    "plt.show()"
   ]
  },
  {
   "cell_type": "markdown",
   "metadata": {},
   "source": [
    " "
   ]
  }
 ],
 "metadata": {
  "kernelspec": {
   "display_name": "Python 3",
   "language": "python",
   "name": "python3"
  },
  "language_info": {
   "codemirror_mode": {
    "name": "ipython",
    "version": 3
   },
   "file_extension": ".py",
   "mimetype": "text/x-python",
   "name": "python",
   "nbconvert_exporter": "python",
   "pygments_lexer": "ipython3",
   "version": "3.7.1"
  }
 },
 "nbformat": 4,
 "nbformat_minor": 4
}
